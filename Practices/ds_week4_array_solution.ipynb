{
  "nbformat": 4,
  "nbformat_minor": 0,
  "metadata": {
    "colab": {
      "provenance": []
    },
    "kernelspec": {
      "name": "python3",
      "display_name": "Python 3"
    }
  },
  "cells": [
    {
      "cell_type": "markdown",
      "metadata": {
        "id": "FZJ8tZne3f6e"
      },
      "source": [
        "## low-level array"
      ]
    },
    {
      "cell_type": "code",
      "metadata": {
        "id": "hFzKrtjc3f6q"
      },
      "source": [
        "from array import array\n",
        "primes = array('i', [2,3,5,7,11,13]) # 4 bytes for each signed integer"
      ],
      "execution_count": null,
      "outputs": []
    },
    {
      "cell_type": "code",
      "metadata": {
        "colab": {
          "base_uri": "https://localhost:8080/"
        },
        "id": "Y1G7k62f3f6q",
        "outputId": "4adf1e18-ed5a-4391-c9af-d701a373c053"
      },
      "source": [
        "primes"
      ],
      "execution_count": null,
      "outputs": [
        {
          "output_type": "execute_result",
          "data": {
            "text/plain": [
              "array('i', [2, 3, 5, 7, 11, 13])"
            ]
          },
          "metadata": {},
          "execution_count": 7
        }
      ]
    },
    {
      "cell_type": "code",
      "metadata": {
        "id": "Y_pB7Ft_3f6r",
        "colab": {
          "base_uri": "https://localhost:8080/"
        },
        "outputId": "9322abfe-588b-473c-aead-3b045f48dd78"
      },
      "source": [
        "import sys\n",
        "empty = array('i', [])\n",
        "y = array('d', [0.1,0.2])\n",
        "\n",
        "print(sys.getsizeof(y))"
      ],
      "execution_count": null,
      "outputs": [
        {
          "output_type": "stream",
          "name": "stdout",
          "text": [
            "80\n"
          ]
        }
      ]
    },
    {
      "cell_type": "code",
      "metadata": {
        "colab": {
          "base_uri": "https://localhost:8080/"
        },
        "id": "Q29MNtt33f6r",
        "outputId": "0587a0a2-32f7-419a-e0b7-b04c2a472dd9"
      },
      "source": [
        "print(sys.getsizeof(empty))\n",
        "\n",
        "# i: 6 * 4 bytes = 24 bytes\n",
        "# overhead: 88 - 24 = 64 bytes (same in empty list)\n",
        "print(sys.getsizeof(primes))"
      ],
      "execution_count": null,
      "outputs": [
        {
          "output_type": "stream",
          "name": "stdout",
          "text": [
            "64\n",
            "88\n"
          ]
        }
      ]
    },
    {
      "cell_type": "code",
      "metadata": {
        "colab": {
          "base_uri": "https://localhost:8080/"
        },
        "id": "ZdLs96UA3f6r",
        "outputId": "66700282-8b2f-47c0-c8e1-9223bf7d9cf6"
      },
      "source": [
        "primes1 = [2, 3, 5, 7, 11, 13]\n",
        "primes1[0] = \"hey\"\n",
        "print(primes1)"
      ],
      "execution_count": null,
      "outputs": [
        {
          "output_type": "stream",
          "name": "stdout",
          "text": [
            "['hey', 3, 5, 7, 11, 13]\n"
          ]
        }
      ]
    },
    {
      "cell_type": "code",
      "metadata": {
        "colab": {
          "base_uri": "https://localhost:8080/"
        },
        "id": "2uzcWjRI3f6r",
        "outputId": "7d3061d0-fa40-421c-961a-d2eb364d6e46"
      },
      "source": [
        "try:\n",
        "  primes[0] = \"hey\"\n",
        "except TypeError:\n",
        "  print(\"Integer array cannot only be set with integer\")"
      ],
      "execution_count": null,
      "outputs": [
        {
          "output_type": "stream",
          "name": "stdout",
          "text": [
            "Integer array cannot only be set with integer\n"
          ]
        }
      ]
    },
    {
      "cell_type": "markdown",
      "metadata": {
        "id": "9FJZB6WWl5h8"
      },
      "source": [
        "## Python String and Python List"
      ]
    },
    {
      "cell_type": "code",
      "metadata": {
        "colab": {
          "base_uri": "https://localhost:8080/"
        },
        "id": "RGRz79tcl78o",
        "outputId": "b94a5b2d-af32-495e-d648-3d1c87584d2b"
      },
      "source": [
        "import sys\n",
        "\n",
        "x = \"sampleeeeeeeeeeeeeeee\"\n",
        "print(len(x))\n",
        "\n",
        "print(sys.getsizeof(x))\n",
        "print(sys.getsizeof([\"s\", \"a\", \"m\", \"p\", \"l\", \"e\"])) # each cell (a reference) occupies 8 bytes!\n",
        "print(sys.getsizeof([])) # empty Python list occupies memory\n",
        "print(sys.getsizeof(\"\")) # empty Python string occupies memory"
      ],
      "execution_count": null,
      "outputs": [
        {
          "output_type": "stream",
          "name": "stdout",
          "text": [
            "21\n",
            "70\n",
            "120\n",
            "72\n",
            "53\n"
          ]
        }
      ]
    },
    {
      "cell_type": "markdown",
      "metadata": {
        "id": "EwElC97LUlbY"
      },
      "source": [
        "# Experimental analysis on size of Python list"
      ]
    },
    {
      "cell_type": "code",
      "metadata": {
        "colab": {
          "base_uri": "https://localhost:8080/"
        },
        "id": "ErDmmgFvWGxj",
        "outputId": "48779046-7f2a-45ef-b25a-e48903975597"
      },
      "source": [
        "import sys                              # provides getsizeof function\n",
        "\n",
        "try:\n",
        "    n = int(sys.argv[1])\n",
        "except:\n",
        "    n = 100\n",
        "\n",
        "data = []\n",
        "for k in range(n):                      # NOTE: must fix choice of n\n",
        "  a = len(data)                         # number of elements\n",
        "  b = sys.getsizeof(data)               # actual size in bytes\n",
        "  print('Length: {0:3d}; Size in bytes: {1:4d}'.format(a, b))\n",
        "  data.append(None)                     # increase length by one"
      ],
      "execution_count": null,
      "outputs": [
        {
          "output_type": "stream",
          "name": "stdout",
          "text": [
            "Length:   0; Size in bytes:   56\n",
            "Length:   1; Size in bytes:   88\n",
            "Length:   2; Size in bytes:   88\n",
            "Length:   3; Size in bytes:   88\n",
            "Length:   4; Size in bytes:   88\n",
            "Length:   5; Size in bytes:  120\n",
            "Length:   6; Size in bytes:  120\n",
            "Length:   7; Size in bytes:  120\n",
            "Length:   8; Size in bytes:  120\n",
            "Length:   9; Size in bytes:  184\n",
            "Length:  10; Size in bytes:  184\n",
            "Length:  11; Size in bytes:  184\n",
            "Length:  12; Size in bytes:  184\n",
            "Length:  13; Size in bytes:  184\n",
            "Length:  14; Size in bytes:  184\n",
            "Length:  15; Size in bytes:  184\n",
            "Length:  16; Size in bytes:  184\n",
            "Length:  17; Size in bytes:  248\n",
            "Length:  18; Size in bytes:  248\n",
            "Length:  19; Size in bytes:  248\n",
            "Length:  20; Size in bytes:  248\n",
            "Length:  21; Size in bytes:  248\n",
            "Length:  22; Size in bytes:  248\n",
            "Length:  23; Size in bytes:  248\n",
            "Length:  24; Size in bytes:  248\n",
            "Length:  25; Size in bytes:  312\n",
            "Length:  26; Size in bytes:  312\n",
            "Length:  27; Size in bytes:  312\n",
            "Length:  28; Size in bytes:  312\n",
            "Length:  29; Size in bytes:  312\n",
            "Length:  30; Size in bytes:  312\n",
            "Length:  31; Size in bytes:  312\n",
            "Length:  32; Size in bytes:  312\n",
            "Length:  33; Size in bytes:  376\n",
            "Length:  34; Size in bytes:  376\n",
            "Length:  35; Size in bytes:  376\n",
            "Length:  36; Size in bytes:  376\n",
            "Length:  37; Size in bytes:  376\n",
            "Length:  38; Size in bytes:  376\n",
            "Length:  39; Size in bytes:  376\n",
            "Length:  40; Size in bytes:  376\n",
            "Length:  41; Size in bytes:  472\n",
            "Length:  42; Size in bytes:  472\n",
            "Length:  43; Size in bytes:  472\n",
            "Length:  44; Size in bytes:  472\n",
            "Length:  45; Size in bytes:  472\n",
            "Length:  46; Size in bytes:  472\n",
            "Length:  47; Size in bytes:  472\n",
            "Length:  48; Size in bytes:  472\n",
            "Length:  49; Size in bytes:  472\n",
            "Length:  50; Size in bytes:  472\n",
            "Length:  51; Size in bytes:  472\n",
            "Length:  52; Size in bytes:  472\n",
            "Length:  53; Size in bytes:  568\n",
            "Length:  54; Size in bytes:  568\n",
            "Length:  55; Size in bytes:  568\n",
            "Length:  56; Size in bytes:  568\n",
            "Length:  57; Size in bytes:  568\n",
            "Length:  58; Size in bytes:  568\n",
            "Length:  59; Size in bytes:  568\n",
            "Length:  60; Size in bytes:  568\n",
            "Length:  61; Size in bytes:  568\n",
            "Length:  62; Size in bytes:  568\n",
            "Length:  63; Size in bytes:  568\n",
            "Length:  64; Size in bytes:  568\n",
            "Length:  65; Size in bytes:  664\n",
            "Length:  66; Size in bytes:  664\n",
            "Length:  67; Size in bytes:  664\n",
            "Length:  68; Size in bytes:  664\n",
            "Length:  69; Size in bytes:  664\n",
            "Length:  70; Size in bytes:  664\n",
            "Length:  71; Size in bytes:  664\n",
            "Length:  72; Size in bytes:  664\n",
            "Length:  73; Size in bytes:  664\n",
            "Length:  74; Size in bytes:  664\n",
            "Length:  75; Size in bytes:  664\n",
            "Length:  76; Size in bytes:  664\n",
            "Length:  77; Size in bytes:  792\n",
            "Length:  78; Size in bytes:  792\n",
            "Length:  79; Size in bytes:  792\n",
            "Length:  80; Size in bytes:  792\n",
            "Length:  81; Size in bytes:  792\n",
            "Length:  82; Size in bytes:  792\n",
            "Length:  83; Size in bytes:  792\n",
            "Length:  84; Size in bytes:  792\n",
            "Length:  85; Size in bytes:  792\n",
            "Length:  86; Size in bytes:  792\n",
            "Length:  87; Size in bytes:  792\n",
            "Length:  88; Size in bytes:  792\n",
            "Length:  89; Size in bytes:  792\n",
            "Length:  90; Size in bytes:  792\n",
            "Length:  91; Size in bytes:  792\n",
            "Length:  92; Size in bytes:  792\n",
            "Length:  93; Size in bytes:  920\n",
            "Length:  94; Size in bytes:  920\n",
            "Length:  95; Size in bytes:  920\n",
            "Length:  96; Size in bytes:  920\n",
            "Length:  97; Size in bytes:  920\n",
            "Length:  98; Size in bytes:  920\n",
            "Length:  99; Size in bytes:  920\n"
          ]
        }
      ]
    },
    {
      "cell_type": "markdown",
      "metadata": {
        "id": "lMSHbUNDfy9K"
      },
      "source": [
        "## Multidimensional list"
      ]
    },
    {
      "cell_type": "markdown",
      "metadata": {
        "id": "1ZFUPrSAmSjh"
      },
      "source": [
        "### common mistakes"
      ]
    },
    {
      "cell_type": "code",
      "metadata": {
        "colab": {
          "base_uri": "https://localhost:8080/"
        },
        "id": "mXBYW5YlmK2f",
        "outputId": "dc79a5ce-c3b4-4860-a2ad-fb876a59264c"
      },
      "source": [
        "M,N = 2,3\n",
        "z = ([0] * M) * N\n",
        "print(z)"
      ],
      "execution_count": null,
      "outputs": [
        {
          "output_type": "stream",
          "text": [
            "[0, 0, 0, 0, 0, 0]\n"
          ],
          "name": "stdout"
        }
      ]
    },
    {
      "cell_type": "code",
      "metadata": {
        "id": "7VsqWdycf2pA",
        "colab": {
          "base_uri": "https://localhost:8080/"
        },
        "outputId": "70fa3a0b-8bce-4700-9207-3baa5e49229a"
      },
      "source": [
        "M,N = 2,3\n",
        "x = [[0] * M] * N\n",
        "print(x)"
      ],
      "execution_count": null,
      "outputs": [
        {
          "output_type": "stream",
          "text": [
            "[[0, 0], [0, 0], [0, 0]]\n"
          ],
          "name": "stdout"
        }
      ]
    },
    {
      "cell_type": "code",
      "metadata": {
        "id": "UIN5u9NQf4Jw"
      },
      "source": [
        "x[0][0] += 1"
      ],
      "execution_count": null,
      "outputs": []
    },
    {
      "cell_type": "code",
      "metadata": {
        "colab": {
          "base_uri": "https://localhost:8080/"
        },
        "id": "9PFjG4brgQhz",
        "outputId": "6fe83e93-8372-40b8-9a96-658a5a8892a0"
      },
      "source": [
        "x"
      ],
      "execution_count": null,
      "outputs": [
        {
          "output_type": "execute_result",
          "data": {
            "text/plain": [
              "[[1, 0], [1, 0], [1, 0]]"
            ]
          },
          "metadata": {
            "tags": []
          },
          "execution_count": 24
        }
      ]
    },
    {
      "cell_type": "markdown",
      "metadata": {
        "id": "UY3vQjBemVIW"
      },
      "source": [
        "### correct way"
      ]
    },
    {
      "cell_type": "code",
      "metadata": {
        "id": "K1zc5JCelr4u"
      },
      "source": [
        "y = [[0] * M for _ in range(N)] # N x M matrix\n",
        "y[0][0] += 1"
      ],
      "execution_count": null,
      "outputs": []
    },
    {
      "cell_type": "code",
      "metadata": {
        "colab": {
          "base_uri": "https://localhost:8080/"
        },
        "id": "myBJyX8wmA0F",
        "outputId": "4737ad69-7778-4317-e4d9-c368fbff76b0"
      },
      "source": [
        "print(y)"
      ],
      "execution_count": null,
      "outputs": [
        {
          "output_type": "stream",
          "text": [
            "[[1, 0], [0, 0], [0, 0]]\n"
          ],
          "name": "stdout"
        }
      ]
    },
    {
      "cell_type": "markdown",
      "metadata": {
        "id": "Ehvy2PXcx3Ke"
      },
      "source": [
        "## Dynamic Array\n",
        "TODO: Fill in your code below to complete the utility functions."
      ]
    },
    {
      "cell_type": "code",
      "metadata": {
        "colab": {
          "base_uri": "https://localhost:8080/"
        },
        "id": "4liDNG6tobdw",
        "outputId": "c8812df9-8c5f-41d7-993a-a9673ce83d08"
      },
      "source": [
        "import ctypes\n",
        "\n",
        "obj = ctypes.py_object()\n",
        "sys.getsizeof(obj)"
      ],
      "execution_count": null,
      "outputs": [
        {
          "output_type": "execute_result",
          "data": {
            "text/plain": [
              "136"
            ]
          },
          "metadata": {
            "tags": []
          },
          "execution_count": 27
        }
      ]
    },
    {
      "cell_type": "code",
      "source": [
        "x = slice(3,8)\n",
        "print(x.indices(10)) # 10 is the maximum length. The output is a tuple\n",
        "print(*x.indices(10)) # unpacking tuple into its components. The output is 3 integers\n",
        "for i in range(*x.indices(10)): # unpacked integers are passed into the range function\n",
        "  print(i)"
      ],
      "metadata": {
        "colab": {
          "base_uri": "https://localhost:8080/"
        },
        "id": "Js4Vn2IrkZO0",
        "outputId": "a1d1506e-2d81-44e1-f032-02bd274e6496"
      },
      "execution_count": null,
      "outputs": [
        {
          "output_type": "stream",
          "name": "stdout",
          "text": [
            "(3, 8, 1)\n",
            "3 8 1\n",
            "3\n",
            "4\n",
            "5\n",
            "6\n",
            "7\n"
          ]
        }
      ]
    },
    {
      "cell_type": "code",
      "metadata": {
        "id": "Vw4ralPWgRCJ"
      },
      "source": [
        "import ctypes\n",
        "\n",
        "class UserDefinedDynamicArray:\n",
        "    def __init__(self,I=None):\n",
        "        self._n=0\n",
        "        self._capacity=1\n",
        "        self._A=self._make_array(self._capacity)\n",
        "        if I:\n",
        "            self.extend(I)\n",
        "\n",
        "    def __len__(self):\n",
        "        return self._n\n",
        "\n",
        "    def append(self,x):\n",
        "        if self._n==self._capacity:\n",
        "            self._resize(2*self._capacity)\n",
        "        self._A[self._n]=x\n",
        "        self._n+=1\n",
        "\n",
        "    def _resize(self,newsize):\n",
        "        A=self._make_array(newsize)\n",
        "        self._capacity=newsize\n",
        "        for i in range(self._n):\n",
        "            A[i]=self._A[i]\n",
        "        self._A=A\n",
        "\n",
        "    def _make_array(self,size):\n",
        "        return (size*ctypes.py_object)()\n",
        "\n",
        "    def __getitem__(self,i):\n",
        "        if isinstance(i,slice):\n",
        "            A=UserDefinedDynamicArray()\n",
        "            for j in range(*i.indices(self._n)): # * operator was used to unpack the slice tuple\n",
        "                A.append(self._A[j])\n",
        "            return A\n",
        "        if i<0:\n",
        "            i=self._n+i\n",
        "        return self._A[i]\n",
        "\n",
        "    def __delitem__(self,i):\n",
        "        if isinstance(i,slice):\n",
        "            #A=UserDefinedDynamicArray()\n",
        "            for j in reversed(range(*i.indices(self._n))):\n",
        "                 del self[j]\n",
        "        else:\n",
        "            if i<0:\n",
        "                i=self._n+i\n",
        "            for j in range(i,self._n-1):\n",
        "                self._A[j]=self._A[j+1]\n",
        "            self[-1]=None\n",
        "            self._n-=1\n",
        "\n",
        "\n",
        "    def __str__(self):\n",
        "        return \"[\" \\\n",
        "               +\"\".join( str(i)+\",\" for i in self[:-1]) \\\n",
        "               +(str(self[-1]) if not self.is_empty() else \"\") \\\n",
        "               +\"]\"\n",
        "\n",
        "    def is_empty(self):\n",
        "        # we will do in class\n",
        "        # return true if array is empty otherwise false\n",
        "        # Your Code\n",
        "        pass\n",
        "\n",
        "    def __iter__(self):\n",
        "        # we will do in class, iterate through the list using yield\n",
        "        # Your Code\n",
        "        pass\n",
        "\n",
        "    def __setitem__(self,i,x):\n",
        "        #we will do in class, think about how to handle negative index\n",
        "        # Your code\n",
        "        pass\n",
        "\n",
        "    def extend(self,I):\n",
        "        # append all elements of I to the self\n",
        "        pass\n",
        "\n",
        "    def reverse(self):\n",
        "        #we will do in class\n",
        "        # reverse the list\n",
        "        # your code\n",
        "\n",
        "        pass\n",
        "\n",
        "    def __contains__(self,x):\n",
        "        #we will do in class\n",
        "        # If element x is present in the list return true otherwise false\n",
        "        # your code\n",
        "        pass\n",
        "\n",
        "    def index(self,x):\n",
        "        #we will do in class\n",
        "        # Return the index of first occurrence of element x, if not found in the list return None.\n",
        "        # Your code\n",
        "        pass\n",
        "\n",
        "    def count(self,x):\n",
        "        #we will do in class\n",
        "        # return how many times element x is present in the list\n",
        "        # Your code\n",
        "        pass\n",
        "\n",
        "    def __add__(self,other):\n",
        "        # we will do in class\n",
        "        # '+' Operator Overloading for UserDefinedDyamicArray Class like myList1+myList2 will return a list containing all the elements of myList1 and then myList2\n",
        "        # Your code\n",
        "\n",
        "        pass\n",
        "\n",
        "    def __mul__(self,times):\n",
        "        # we will do in class\n",
        "        # '*' Operator Overloading for UserDefinedDyamicArray Class like myList1*3 will return a list having myList1 elements three times.\n",
        "        # Your code\n",
        "        pass\n",
        "\n",
        "    __rmul__=__mul__\n",
        "\n",
        "    def pop(self,i=-1):\n",
        "        # We will do in class\n",
        "        # delete element at position i using del keyword, by default we delete the last element from UserDefinedDyamicArray and return the element to the calling method\n",
        "        # Your Code\n",
        "        pass\n",
        "\n",
        "    def remove(self,x):\n",
        "        #we will do in class\n",
        "        # remove element x from the list, we will delete the first occurrence of element x from the list\n",
        "        # at first find out the index of element x, then delete it\n",
        "        # Your code\n",
        "        pass\n",
        "\n",
        "def main():\n",
        "#### Task1: Print the lists\n",
        "####  create two empty list myList1 and myList2, append some elements and print it. You need to implement __len__ and __iter__ methods in the UserDefinedDyanmicArray class.\n",
        "    myList1 = UserDefinedDynamicArray()\n",
        "\n",
        "    #print(\"myList1: \",myList1)\n",
        "    myList1.append(3)\n",
        "    #print(\"myList1 after appending 3: \",myList1)\n",
        "\n",
        "    myList2=UserDefinedDynamicArray()\n",
        "    for i in range(10):\n",
        "        myList2.append((i+1)*20)\n",
        "    #print(\"myList2: \",myList2)\n",
        "\n",
        "####  Task2: Delete elements from the myList2 using \"del\" keyword. __delitem__ method is already given but you need to write __setitem__ method to make it run.\n",
        "####  suppose we want to delete 2nd, third, and four elements from myList2 by as follows. This will give you an error as __setitem__ method needs to be complete\n",
        "\n",
        "    #del myList2[2:5]\n",
        "    #print(\"myList2 after deleting: \",myList2)\n",
        "\n",
        "\n",
        "####  Task3: extending the list using extend function and creating a list from an existing list\n",
        "####  suppose we want to use extend myList1 by adding all the elements in myList2 by calling the extend(self, I) function in the UserDefinedDynamicArray Class\n",
        "\n",
        "    #myList1.extend(myList2)\n",
        "    #print(\"myList1 after extending: \",myList1)\n",
        "\n",
        "####  Task4: Reverse a list by calling myList2.reverse(), it will reverse the list.\n",
        "    #myList2.reverse()\n",
        "    #print(\"myList2 after reversing: \",myList2)\n",
        "\n",
        "####  Task5: Implement __contains__(self,x), count(x), and index(x) as described in the UserDefinedDynamicArray class.\n",
        "####  __contains__ will check whether element x is present in the list. If yes return true, otherwise false\n",
        "####  index(x) will return the index of element x in the list. If x is present multiple times, it will return the first index of x, otherwise it will return None\n",
        "####  count(x) will return how many times element x is present in the list. If the element x is not present, it will return 0.\n",
        "    #x=140\n",
        "    #print(\"Whether x is present in the myList1: \",x in myList1) #contains function check\n",
        "    #print(\"x current position in the myList1 is \",myList1.index(x))\n",
        "    #print(\"Number of times x appears in the myList1 is \",myList1.count(x))\n",
        "\n",
        "\n",
        "\n",
        "####  Task6: Implement __add__(self,other) and __mul__(self,times) as described in the UserDefinedDynamicArray class.\n",
        "####  __add__ will implement '+' Operator Overloading for UserDefinedDyamicArray Class\n",
        "####  like myList1+myList2 will return a list containing all the elements of myList1 and then myList2\n",
        "####  --mul__ qill implement '*' Operator Overloading for UserDefinedDyamicArray Class like myList1*3 will return a list having myList1 elements three times.\n",
        "    #myList3=myList1+myList2\n",
        "    #print(\"myList3 after adding : \",myList3)\n",
        "    #myList4 = 2*myList1\n",
        "    #print(\"myList4 after multiplying : \",myList4)\n",
        "\n",
        "\n",
        "\n",
        "####   Task7: Implement pop(i) function for UserDefinedDynamicArray Class. Implement remove method for UserDefinedDynamicArray Class.\n",
        "####   By default pop will return the last element from the list and delete that element from the list using del keyword.\n",
        "####   if i value is specified then we will delete the element at position i and return it to the calling method.\n",
        "####   remove(x) will delete the element x from the list. If x is present multiple time, it will delete the first occurrence of x.\n",
        "\n",
        "    #p=myList2.pop(1)\n",
        "    #print(\"Popped element at position 1 from myList2 \",p)\n",
        "\n",
        "    #myList1.remove(140)\n",
        "    #print(\"myList1 after removing: \",myList1)\n",
        "\n",
        "if __name__ == '__main__':\n",
        "    main()"
      ],
      "execution_count": null,
      "outputs": []
    },
    {
      "cell_type": "markdown",
      "metadata": {
        "id": "9nEJWAIUyWPP"
      },
      "source": [
        "### Solution:"
      ]
    },
    {
      "cell_type": "code",
      "metadata": {
        "colab": {
          "base_uri": "https://localhost:8080/"
        },
        "id": "9ohmI8Qm7Jsj",
        "outputId": "1b45a493-5f36-4115-f20f-1a750bfc6d8f"
      },
      "source": [
        "import ctypes\n",
        "\n",
        "class UserDefinedDynamicArray:\n",
        "    def __init__(self, I=None):\n",
        "        self._n = 0\n",
        "        self._capacity = 1\n",
        "        self._A = self._make_array(self._capacity)\n",
        "        if I:\n",
        "            self.extend(I)\n",
        "\n",
        "    def __len__(self):\n",
        "        return self._n\n",
        "\n",
        "    def append(self, x):\n",
        "        if self._n == self._capacity:\n",
        "            self._resize(2*self._capacity)\n",
        "        self._A[self._n] = x\n",
        "        self._n += 1\n",
        "\n",
        "    def _resize(self,newsize):\n",
        "        A = self._make_array(newsize)\n",
        "        self._capacity = newsize\n",
        "        for i in range(self._n):\n",
        "            A[i] = self._A[i]\n",
        "        self._A = A\n",
        "\n",
        "    def _make_array(self,size):\n",
        "        return (size*ctypes.py_object)()\n",
        "\n",
        "    def __getitem__(self,i):\n",
        "        if isinstance(i,slice):\n",
        "            A = UserDefinedDynamicArray()\n",
        "            for j in range(*i.indices(self._n)): # * operator was used to unpack the slice tuple\n",
        "                A.append(self._A[j])\n",
        "            return A\n",
        "        if i<0:\n",
        "            i += self._n\n",
        "        return self._A[i]\n",
        "\n",
        "    def __delitem__(self,i):\n",
        "        if isinstance(i, slice):\n",
        "            for j in reversed(range(*i.indices(self._n))):\n",
        "                 # NOTE: Recursion happens here\n",
        "                 del self[j]\n",
        "        else:\n",
        "            if i<0:\n",
        "                i += self._n\n",
        "            for j in range(i,self._n-1):\n",
        "                self._A[j] = self._A[j+1]\n",
        "            self[-1] = None\n",
        "            self._n -= 1\n",
        "\n",
        "    def __str__(self):\n",
        "        return \"[\" \\\n",
        "               +\"\".join( str(i)+\",\" for i in self[:-1]) \\\n",
        "               +(str(self[-1]) if not self.is_empty() else \"\") \\\n",
        "               +\"]\"\n",
        "\n",
        "    def is_empty(self):\n",
        "        # we will do in class\n",
        "        # return true if array is empty otherwise false\n",
        "        # Your Code\n",
        "        return self._n == 0\n",
        "\n",
        "    def __iter__(self):\n",
        "        # we will do in class, iterate through the list using yield\n",
        "        # Your Code\n",
        "        for i in range(len(self)):\n",
        "            yield self[i]\n",
        "\n",
        "    def __setitem__(self, i, x):\n",
        "        #we will do in class, think about how to handle negative index\n",
        "        # Your code\n",
        "        # convert negative index into positve\n",
        "        if i < 0:\n",
        "            i += len(self)\n",
        "\n",
        "        if not 0 <= i < len(self):\n",
        "            raise IndexError('index out of range')\n",
        "\n",
        "        self._A[i] = x\n",
        "\n",
        "    def extend(self,I):\n",
        "        # append all elements of I to the self\n",
        "        for each in I:\n",
        "            self.append(each)\n",
        "\n",
        "    def reverse(self):\n",
        "        #we will do in class\n",
        "        # reverse the list\n",
        "        # your code\n",
        "        for i in range(len(self)//2):\n",
        "            # swap first and last\n",
        "            j = len(self)-1-i\n",
        "            self._A[i], self._A[j] = self._A[j], self._A[i]\n",
        "\n",
        "\n",
        "    def __contains__(self,x):\n",
        "        #we will do in class\n",
        "        # If element x is present in the list return true otherwise false\n",
        "        # your code\n",
        "        for each in self:\n",
        "            if each == x:\n",
        "                return True\n",
        "        return False\n",
        "\n",
        "    def index(self,x):\n",
        "        #we will do in class\n",
        "        # Return the index of first occurrence of element x, if not found in the list return None.\n",
        "        # Your code\n",
        "        for i in range(len(self)):\n",
        "            if self[i] == x:\n",
        "                return i\n",
        "        return None\n",
        "\n",
        "    def count(self,x):\n",
        "        #we will do in class\n",
        "        # return how many times element x is present in the list\n",
        "        # Your code\n",
        "        cnt = 0\n",
        "        for each in self:\n",
        "            if each == x:\n",
        "                cnt += 1\n",
        "        return cnt\n",
        "\n",
        "    def __add__(self,other):\n",
        "        # we will do in class\n",
        "        # '+' Operator Overloading for UserDefinedDyamicArray Class like myList1+myList2 will return a list containing all the elements of myList1 and then myList2\n",
        "        # Your code\n",
        "        A = UserDefinedDynamicArray(self)\n",
        "        A.extend(other)\n",
        "        return A\n",
        "\n",
        "    def __mul__(self,times):\n",
        "        # we will do in class\n",
        "        # '*' Operator Overloading for UserDefinedDyamicArray Class like myList1*3 will return a list having myList1 elements three times.\n",
        "        # Your code\n",
        "        A = UserDefinedDynamicArray()\n",
        "\n",
        "        for _ in range(times):\n",
        "            A.extend(self)\n",
        "\n",
        "        return A\n",
        "\n",
        "    __rmul__=__mul__\n",
        "\n",
        "\n",
        "\n",
        "    def pop(self,i=-1):\n",
        "        # We will do in class\n",
        "        # delete element at position i using del keyword, by default we delete the last element from UserDefinedDyamicArray and return the element to the calling method\n",
        "        # Your Code\n",
        "        val = self[i]\n",
        "        del self[i]\n",
        "        return val\n",
        "\n",
        "    def remove(self,x):\n",
        "        #we will do in class\n",
        "        # remove element x from the list, we will delete the first occurrence of element x from the list\n",
        "        # at first find out the index of element x, then delete it\n",
        "        # Your code\n",
        "        idx = self.index(x)\n",
        "\n",
        "        if idx is not None:\n",
        "            del self[idx]\n",
        "\n",
        "    def insert(self, i, value):\n",
        "        #we will do in class\n",
        "        # remove element x from the list, we will delete the first occurrence of element x from the list\n",
        "        # at first find out the index of element x, then delete it\n",
        "        # Your code\n",
        "        # handle array capacity is full using doubling strategy\n",
        "        if self._n == self._capacity:\n",
        "            self._resize(2*self._capacity)\n",
        "\n",
        "        # handle negative index\n",
        "        if i < 0:\n",
        "            i += self._n\n",
        "\n",
        "        # shift elements in [i, N-1] to right, starting from the last element in array\n",
        "        for j in range(self._n-1, i-1, -1):\n",
        "            self[j+1] = self[j]\n",
        "        self[i] = value\n",
        "        self._n += 1\n",
        "\n",
        "def main():\n",
        "#### Task1: Print the lists\n",
        "####  create two empty list myList1 and myList2, append some elements and print it. You need to implement __len__ and __iter__ methods in the UserDefinedDyanmicArray class.\n",
        "    print(\"--------------------Task 1--------------------\")\n",
        "    myList1 = UserDefinedDynamicArray()\n",
        "    print(\"myList1: \",myList1)\n",
        "    myList1.append(3)\n",
        "    print(\"myList1 after appending 3: \",myList1)\n",
        "\n",
        "    myList2 = UserDefinedDynamicArray()\n",
        "    for i in range(10):\n",
        "        myList2.append((i+1)*20)\n",
        "    print(\"myList2: \",myList2)\n",
        "\n",
        "####  Task2: Delete elements from the myList2 using \"del\" keyword. __delitem__ method is already given but you need to write __setitem__ method to make it run.\n",
        "####  suppose we want to delete 2nd, third, and four elements from myList2 by as follows. This will give you an error as __setitem__ method needs to be complete\n",
        "\n",
        "    #print(\"--------------------Task 2--------------------\")\n",
        "    del myList2[2:5]\n",
        "    print(\"myList2 after deleting index 2,3,4 : \",myList2)\n",
        "\n",
        "\n",
        "####  Task3: extending the list using extend function and creating a list from an existing list\n",
        "####  suppose we want to use extend myList1 by adding all the elements in myList2 by calling the extend(self, I) function in the UserDefinedDynamicArray Class\n",
        "\n",
        "    myList1.extend(myList2)\n",
        "    print(\"myList1 after extending: \",myList1)\n",
        "\n",
        "####  Task4: Reverse a list by calling myList2.reverse(), it will reverse the list.\n",
        "    myList2.reverse()\n",
        "    print(\"myList2 after reversing: \",myList2)\n",
        "\n",
        "####  Task5: Implement __contains__(self,x), count(x), and index(x) as described in the UserDefinedDynamicArray class.\n",
        "####  __contains__ will check whether element x is present in the list. If yes return true, otherwise false\n",
        "####  index(x) will return the index of element x in the list. If x is present multiple times, it will return the first index of x, otherwise it will return None\n",
        "####  count(x) will return how many times element x is present in the list. If the element x is not present, it will return 0.\n",
        "    x = 140\n",
        "    print(\"Whether x is present in the myList1: \",x in myList1) #contains function check\n",
        "    print(\"x current position in the myList1 is \",myList1.index(x))\n",
        "    print(\"Number of times x appears in the myList1 is \",myList1.count(x))\n",
        "\n",
        "####  Task6: Implement __add__(self,other) and __mul__(self,times) as described in the UserDefinedDynamicArray class.\n",
        "####  __add__ will implement '+' Operator Overloading for UserDefinedDyamicArray Class\n",
        "####  like myList1+myList2 will return a list containing all the elements of myList1 and then myList2\n",
        "####  --mul__ qill implement '*' Operator Overloading for UserDefinedDyamicArray Class like myList1*3 will return a list having myList1 elements three times.\n",
        "    myList3 = myList1+myList2\n",
        "    print(\"myList3 after adding : \",myList3)\n",
        "    myList4 = 2*myList1\n",
        "    print(\"myList4 after multiplying : \",myList4)\n",
        "\n",
        "####   Task7: Implement pop(i) function for UserDefinedDynamicArray Class. Implement remove method for UserDefinedDynamicArray Class.\n",
        "####   By default pop will return the last element from the list and delete that element from the list using del keyword.\n",
        "####   if i value is specified then we will delete the element at position i and return it to the calling method.\n",
        "####   remove(x) will delete the element x from the list. If x is present multiple time, it will delete the first occurrence of x.\n",
        "\n",
        "    p = myList2.pop(1)\n",
        "    print(\"Popped element at position 1 from myList2 \",p)\n",
        "\n",
        "    myList1.remove(140)\n",
        "    print(\"myList1 after removing: \",myList1)\n",
        "\n",
        "if __name__ == '__main__':\n",
        "    main()"
      ],
      "execution_count": null,
      "outputs": [
        {
          "output_type": "stream",
          "text": [
            "--------------------Task 1--------------------\n",
            "myList1:  []\n",
            "myList1 after appending 3:  [3]\n",
            "myList2:  [20,40,60,80,100,120,140,160,180,200]\n",
            "myList2 after deleting index 2,3,4 :  [20,40,120,140,160,180,200]\n",
            "myList1 after extending:  [3,20,40,120,140,160,180,200]\n",
            "myList2 after reversing:  [200,180,160,140,120,40,20]\n",
            "Whether x is present in the myList1:  True\n",
            "x current position in the myList1 is  4\n",
            "Number of times x appears in the myList1 is  1\n",
            "myList3 after adding :  [3,20,40,120,140,160,180,200,200,180,160,140,120,40,20]\n",
            "myList4 after multiplying :  [3,20,40,120,140,160,180,200,3,20,40,120,140,160,180,200]\n",
            "Popped element at position 1 from myList2  180\n",
            "myList1 after removing:  [3,20,40,120,160,180,200]\n"
          ],
          "name": "stdout"
        }
      ]
    },
    {
      "cell_type": "markdown",
      "source": [
        "## Create any multi-dimensional array using recursion"
      ],
      "metadata": {
        "id": "U3noi9hxHw9A"
      }
    },
    {
      "cell_type": "code",
      "metadata": {
        "id": "juvhMzylzNUw",
        "colab": {
          "base_uri": "https://localhost:8080/"
        },
        "outputId": "a3dcecae-ac98-4182-ce2c-5c76be98a0e9"
      },
      "source": [
        "def make_multiarray(dim_tuple, init_value=0):\n",
        "  if len(dim_tuple) == 1:\n",
        "    # return a 1-dim array\n",
        "    return [init_value] * dim_tuple[0]\n",
        "  # recursively construct the lower-dim array, slicing the dim_tuple from 1:\n",
        "  return [make_multiarray(dim_tuple[1:], init_value) for _ in range(dim_tuple[0])]\n",
        "\n",
        "make_multiarray((2,3,4))"
      ],
      "execution_count": null,
      "outputs": [
        {
          "output_type": "execute_result",
          "data": {
            "text/plain": [
              "[[[0, 0, 0, 0], [0, 0, 0, 0], [0, 0, 0, 0]],\n",
              " [[0, 0, 0, 0], [0, 0, 0, 0], [0, 0, 0, 0]]]"
            ]
          },
          "metadata": {},
          "execution_count": 3
        }
      ]
    },
    {
      "cell_type": "code",
      "source": [
        "import ctypes"
      ],
      "metadata": {
        "id": "Fcw69jQMI4Er"
      },
      "execution_count": null,
      "outputs": []
    },
    {
      "cell_type": "code",
      "source": [
        "type((5*ctypes.py_object)())"
      ],
      "metadata": {
        "colab": {
          "base_uri": "https://localhost:8080/"
        },
        "id": "uxj3uJpgaDcb",
        "outputId": "3c5635b3-2fdf-450a-adf2-0d8d35a040f7"
      },
      "execution_count": null,
      "outputs": [
        {
          "output_type": "execute_result",
          "data": {
            "text/plain": [
              "__main__.py_object_Array_5"
            ]
          },
          "metadata": {},
          "execution_count": 2
        }
      ]
    },
    {
      "cell_type": "code",
      "source": [
        "A = (5*ctypes.py_object)()"
      ],
      "metadata": {
        "id": "EjeMjHNeaLQo"
      },
      "execution_count": null,
      "outputs": []
    },
    {
      "cell_type": "code",
      "source": [
        "A[0]"
      ],
      "metadata": {
        "colab": {
          "base_uri": "https://localhost:8080/",
          "height": 165
        },
        "id": "43dx7sU0aUqx",
        "outputId": "a13eeaa8-ada8-4510-ab5c-4ce8561d2f2a"
      },
      "execution_count": null,
      "outputs": [
        {
          "output_type": "error",
          "ename": "ValueError",
          "evalue": "ignored",
          "traceback": [
            "\u001b[0;31m---------------------------------------------------------------------------\u001b[0m",
            "\u001b[0;31mValueError\u001b[0m                                Traceback (most recent call last)",
            "\u001b[0;32m<ipython-input-10-782c0e2fe61c>\u001b[0m in \u001b[0;36m<module>\u001b[0;34m\u001b[0m\n\u001b[0;32m----> 1\u001b[0;31m \u001b[0mA\u001b[0m\u001b[0;34m[\u001b[0m\u001b[0;36m0\u001b[0m\u001b[0;34m]\u001b[0m\u001b[0;34m\u001b[0m\u001b[0;34m\u001b[0m\u001b[0m\n\u001b[0m",
            "\u001b[0;31mValueError\u001b[0m: PyObject is NULL"
          ]
        }
      ]
    },
    {
      "cell_type": "code",
      "source": [
        "A[0]"
      ],
      "metadata": {
        "colab": {
          "base_uri": "https://localhost:8080/"
        },
        "id": "Hn053fkQaX-n",
        "outputId": "82a8b1f0-0cb5-415a-b2b8-0a2ab7fe10bc"
      },
      "execution_count": null,
      "outputs": [
        {
          "output_type": "execute_result",
          "data": {
            "text/plain": [
              "15"
            ]
          },
          "metadata": {},
          "execution_count": 7
        }
      ]
    },
    {
      "cell_type": "code",
      "source": [],
      "metadata": {
        "id": "mpMruBeZacJH"
      },
      "execution_count": null,
      "outputs": []
    }
  ]
}